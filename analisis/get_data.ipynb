{
 "cells": [
  {
   "cell_type": "code",
   "execution_count": 2,
   "metadata": {},
   "outputs": [],
   "source": [
    "import numpy as np\n",
    "import sys,os, json\n",
    "from plotter_lib import *\n"
   ]
  },
  {
   "cell_type": "code",
   "execution_count": 5,
   "metadata": {},
   "outputs": [],
   "source": [
    "db = \"/workspaces/football_5/data/\"\n",
    "\n",
    "liga = \"England\"\n",
    "\n",
    "arx = db+\"events_%s.json\"%liga\n",
    "\n",
    "data = json.load(open(arx, 'r'))"
   ]
  },
  {
   "cell_type": "code",
   "execution_count": 36,
   "metadata": {},
   "outputs": [
    {
     "name": "stdout",
     "output_type": "stream",
     "text": [
      "68814\n"
     ]
    }
   ],
   "source": [
    "N = len(data)\n",
    "\n",
    "d = { \"no_trans\":[],\"trans\":[] }\n",
    "\n",
    "eventos_permitidos=[8]\n",
    "\n",
    "count=0\n",
    "posesion = []\n",
    "\n",
    "for i in range(N-1):\n",
    "\n",
    "    e1 = data[i]\n",
    "    e2 = data[i+1]\n",
    "\n",
    "    if e1['teamId'] == e2['teamId']:\n",
    "        posesion.append(e1)\n",
    "    \n",
    "    else:\n",
    "\n",
    "        traj = []\n",
    "        pases=0\n",
    "\n",
    "        for e in posesion:\n",
    "            if e['eventId']==8:\n",
    "                pases+=1\n",
    "            \n",
    "            traj.append( [ e['eventSec'], e['positions'][0]['x'], e['positions'][0]['y']] )\n",
    "\n",
    "\n",
    "        if len(traj)>1:\n",
    "\n",
    "            e = abs(sum(list(map( lambda u: 1 if u[1]>50 else -1, traj ))))\n",
    "            l = len(traj)\n",
    "            pe = (l+e)/(2*l) # porcentaje en exceso\n",
    "\n",
    "            if (pe>=0.7):    # si x=1 la traj esta en uno de los campos, si x=0 esta en los dos (transversal)\n",
    "                d[\"no_trans\"].append(pases)\n",
    "            else:\n",
    "                d[\"trans\"].append( pases )\n",
    "            \n",
    "            count+=1\n",
    "\n",
    "        \n",
    "\n",
    "        # resetei posesion para proxima\n",
    "        posesion = []\n",
    "\n",
    "print (count)\n"
   ]
  },
  {
   "cell_type": "code",
   "execution_count": 37,
   "metadata": {},
   "outputs": [
    {
     "name": "stderr",
     "output_type": "stream",
     "text": [
      "No artists with labels found to put in legend.  Note that artists whose label start with an underscore are ignored when legend() is called with no argument.\n"
     ]
    },
    {
     "name": "stdout",
     "output_type": "stream",
     "text": [
      "4.374314392277315 11.262943803746351 14.76031201020714 0.22860725369110685\n",
      "5.8049524493091695 22.017402352843902 27.892520489431355 0.17226669963834193\n"
     ]
    },
    {
     "data": {
      "image/png": "[encoded data removed]",
      "text/plain": [
       "<Figure size 400x300 with 1 Axes>"
      ]
     },
     "metadata": {},
     "output_type": "display_data"
    }
   ],
   "source": [
    "plot = Plotter()\n",
    "\n",
    "u = np.array(d[\"no_trans\"])\n",
    "u= u[u>1]\n",
    "mini,maxi = min(u), max(u) \n",
    "pars = [ mini,maxi , 1. ]\n",
    "x,y = get_dist(u, pars)\n",
    "plot.ax.scatter(x,y)\n",
    "\n",
    "\n",
    "mu = np.mean(u)\n",
    "p = 1.0/mu\n",
    "var = (1-p)/(p**2)\n",
    "\n",
    "print (len(u), mu, np.var(u), var, p)\n",
    "\n",
    "\n",
    "u = np.array(d[\"trans\"])\n",
    "u= u[u>1]\n",
    "mini,maxi = min(u), max(u) \n",
    "pars = [ mini,maxi , 1. ]\n",
    "x,y = get_dist(u, pars)\n",
    "plot.ax.scatter(x,y)\n",
    "\n",
    "\n",
    "mu = np.mean(u)\n",
    "p = 1.0/mu\n",
    "var = (1-p)/(p**2)\n",
    "\n",
    "print (len(u), mu, np.var(u), var, p)\n",
    "\n",
    "\n",
    "#plot.ax.set_xscale(\"log\")\n",
    "plot.ax.set_yscale(\"log\")\n",
    "\n",
    "plot.show()"
   ]
  },
  {
   "cell_type": "code",
   "execution_count": null,
   "metadata": {},
   "outputs": [],
   "source": []
  }
 ],
 "metadata": {
  "kernelspec": {
   "display_name": "base",
   "language": "python",
   "name": "python3"
  },
  "language_info": {
   "codemirror_mode": {
    "name": "ipython",
    "version": 3
   },
   "file_extension": ".py",
   "mimetype": "text/x-python",
   "name": "python",
   "nbconvert_exporter": "python",
   "pygments_lexer": "ipython3",
   "version": "3.10.12"
  },
  "orig_nbformat": 4
 },
 "nbformat": 4,
 "nbformat_minor": 2
}
