{
 "cells": [
  {
   "cell_type": "code",
   "execution_count": 1,
   "metadata": {},
   "outputs": [],
   "source": [
    "import json "
   ]
  },
  {
   "cell_type": "code",
   "execution_count": 2,
   "metadata": {},
   "outputs": [],
   "source": [
    "arx = '/workspaces/Lineas/futbol_5/data/events_England.json'\n",
    "\n",
    "d = json.load( open(arx, \"r\") )"
   ]
  },
  {
   "cell_type": "code",
   "execution_count": 3,
   "metadata": {},
   "outputs": [
    {
     "data": {
      "text/plain": [
       "{'eventId': 8,\n",
       " 'subEventName': 'Head pass',\n",
       " 'tags': [{'id': 1801}],\n",
       " 'playerId': 3319,\n",
       " 'positions': [{'y': 75, 'x': 51}, {'y': 71, 'x': 35}],\n",
       " 'matchId': 2499719,\n",
       " 'eventName': 'Pass',\n",
       " 'teamId': 1609,\n",
       " 'matchPeriod': '1H',\n",
       " 'eventSec': 6.54218800000001,\n",
       " 'subEventId': 82,\n",
       " 'id': 177959173}"
      ]
     },
     "execution_count": 3,
     "metadata": {},
     "output_type": "execute_result"
    }
   ],
   "source": [
    "d[2]"
   ]
  },
  {
   "cell_type": "code",
   "execution_count": null,
   "metadata": {},
   "outputs": [],
   "source": []
  }
 ],
 "metadata": {
  "kernelspec": {
   "display_name": "Python 3",
   "language": "python",
   "name": "python3"
  },
  "language_info": {
   "codemirror_mode": {
    "name": "ipython",
    "version": 3
   },
   "file_extension": ".py",
   "mimetype": "text/x-python",
   "name": "python",
   "nbconvert_exporter": "python",
   "pygments_lexer": "ipython3",
   "version": "3.10.12"
  },
  "orig_nbformat": 4
 },
 "nbformat": 4,
 "nbformat_minor": 2
}
