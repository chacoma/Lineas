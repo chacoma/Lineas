{
 "cells": [
  {
   "cell_type": "code",
   "execution_count": 4,
   "metadata": {},
   "outputs": [],
   "source": [
    "import json\n",
    "import numpy as np\n",
    "import pandas as pd\n",
    "from plotter_lib import *"
   ]
  },
  {
   "cell_type": "code",
   "execution_count": 5,
   "metadata": {},
   "outputs": [],
   "source": [
    "db = '/home/chacoma/Lineas/football_4/data/'\n",
    "arx1 = db+'Sample_Game_1/Sample_Game_1_RawEventsData.csv'\n",
    "arx2 = db+'Sample_Game_2/Sample_Game_2_RawEventsData.csv'\n",
    "\n",
    "info = {\n",
    "    \"game1\": {\"team1\": {\"per1\": 0, \"per2\": 1, \"arquero\": \"Player11\", \"localia\": \"Home\"}, \"team2\": {\"per1\": 1, \"per2\": 0, \"arquero\": \"Player25\", \"localia\": \"Away\"}, \"arx\": arx1},\n",
    "    \"game2\": {\"team1\": {\"per1\": 1, \"per2\": 0, \"arquero\": \"Player11\", \"localia\": \"Home\"}, \"team2\": {\"per1\": 0, \"per2\": 1, \"arquero\": \"Player25\", \"localia\": \"Away\"}, \"arx\": arx2}\n",
    "}\n"
   ]
  },
  {
   "cell_type": "markdown",
   "metadata": {},
   "source": [
    "### Tomo todas las posisiones de los jugadores en el 1er periodo"
   ]
  },
  {
   "cell_type": "code",
   "execution_count": 19,
   "metadata": {},
   "outputs": [
    {
     "data": {
      "text/plain": [
       "dict_keys(['Player3', 'Player6', 'Player1', 'Player9', 'Player7', 'Player8', 'Player4', 'Player5', 'Player10', 'Player2'])"
      ]
     },
     "execution_count": 19,
     "metadata": {},
     "output_type": "execute_result"
    }
   ],
   "source": [
    "# pars\n",
    "game = \"game2\"\n",
    "team = \"team1\"\n",
    "nlinks = 50\n",
    "\n",
    "\n",
    "localia = info[game][team][\"localia\"]\n",
    "arx = info[game][\"arx\"]\n",
    "df = pd.read_csv(arx)\n",
    "\n",
    "\n",
    "d = {}\n",
    "\n",
    "for index, row in df.iterrows():\n",
    "\n",
    "    if row[\"Period\"] == 1:\n",
    "\n",
    "        if localia == row[\"#Team\"]:\n",
    "\n",
    "            if row[\"From\"] != info[game][team][\"arquero\"] and row[\"To\"] != info[game][team][\"arquero\"]:\n",
    "\n",
    "\n",
    "                player,x,y = (row[\"From\"] , row[\"Start X\"], row[\"Start Y\"])\n",
    "\n",
    "                try:\n",
    "                    d[player][\"x\"].append(x)\n",
    "                except:\n",
    "                    d[player]={\"x\":[x], \"y\":[]}\n",
    "\n",
    "                d[player][\"y\"].append(y)\n",
    "\n",
    "\n",
    "    else:\n",
    "        break\n",
    "\n",
    "\n",
    "d.keys()\n",
    "\n"
   ]
  },
  {
   "cell_type": "markdown",
   "metadata": {},
   "source": [
    "### Calculo los centros de los jugadores"
   ]
  },
  {
   "cell_type": "code",
   "execution_count": 26,
   "metadata": {},
   "outputs": [
    {
     "data": {
      "text/plain": [
       "{'Player1': {'xc': 0.5337777777777777, 'yc': 0.13577777777777778},\n",
       " 'Player2': {'xc': 0.6383333333333333, 'yc': 0.31566666666666676},\n",
       " 'Player3': {'xc': 0.6415000000000001, 'yc': 0.7334999999999999},\n",
       " 'Player4': {'xc': 0.5630487804878048, 'yc': 0.8014634146341462},\n",
       " 'Player5': {'xc': 0.47898305084745757, 'yc': 0.34559322033898304},\n",
       " 'Player6': {'xc': 0.5635526315789474, 'yc': 0.507236842105263},\n",
       " 'Player7': {'xc': 0.46634615384615385, 'yc': 0.731923076923077},\n",
       " 'Player8': {'xc': 0.39229166666666665, 'yc': 0.6729166666666666},\n",
       " 'Player9': {'xc': 0.37333333333333335, 'yc': 0.38904761904761903},\n",
       " 'Player10': {'xc': 0.292, 'yc': 0.6523333333333332}}"
      ]
     },
     "execution_count": 26,
     "metadata": {},
     "output_type": "execute_result"
    }
   ],
   "source": [
    "Xc = {}\n",
    "\n",
    "for player in sorted(d.keys(), key= lambda s: int(s.split(\"er\")[-1])):\n",
    "    Xc[player]= { \"xc\":np.nanmean(d[player][\"x\"]) ,\"yc\":np.nanmean(d[player][\"y\"]) }\n",
    "\n",
    "Xc"
   ]
  },
  {
   "cell_type": "code",
   "execution_count": 29,
   "metadata": {},
   "outputs": [
    {
     "name": "stderr",
     "output_type": "stream",
     "text": [
      "No artists with labels found to put in legend.  Note that artists whose label start with an underscore are ignored when legend() is called with no argument.\n"
     ]
    },
    {
     "data": {
      "image/png": "[encoded data removed]",
      "text/plain": [
       "<Figure size 400x300 with 1 Axes>"
      ]
     },
     "metadata": {},
     "output_type": "display_data"
    }
   ],
   "source": [
    "X = np.array( [ [Xc[player][\"xc\"],Xc[player][\"yc\"] ] for player in Xc.keys() ] )\n",
    "\n",
    "plot = Plotter()\n",
    "\n",
    "plot.ax.scatter( X[:,0], X[:,1] )\n",
    "\n",
    "plot.ax.set_xlim(0,1)\n",
    "plot.ax.set_ylim(0,1)\n",
    "\n",
    "plot.show()"
   ]
  },
  {
   "cell_type": "code",
   "execution_count": null,
   "metadata": {},
   "outputs": [],
   "source": []
  }
 ],
 "metadata": {
  "kernelspec": {
   "display_name": "base",
   "language": "python",
   "name": "python3"
  },
  "language_info": {
   "codemirror_mode": {
    "name": "ipython",
    "version": 3
   },
   "file_extension": ".py",
   "mimetype": "text/x-python",
   "name": "python",
   "nbconvert_exporter": "python",
   "pygments_lexer": "ipython3",
   "version": "3.11.3"
  },
  "orig_nbformat": 4
 },
 "nbformat": 4,
 "nbformat_minor": 2
}
