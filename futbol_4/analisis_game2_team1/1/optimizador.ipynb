{
 "cells": [
  {
   "cell_type": "code",
   "execution_count": 1,
   "metadata": {},
   "outputs": [],
   "source": [
    "import json\n",
    "import numpy as np\n",
    "import networkx as nx\n",
    "from scipy.optimize import minimize\n",
    "\n"
   ]
  },
  {
   "cell_type": "markdown",
   "metadata": {},
   "source": [
    "### Definimos la función error para el optimizador"
   ]
  },
  {
   "cell_type": "code",
   "execution_count": 2,
   "metadata": {},
   "outputs": [],
   "source": [
    "def get_Ec(links,w):\n",
    "    edgelist= [ \"%s {'weight':%d}\" % (links[i],w[i]) for i in range(len(links)) ]\n",
    "    G = nx.parse_edgelist(edgelist, nodetype = str)\n",
    "    return  nx.eigenvector_centrality(G, weight=\"weight\")   \n",
    "\n",
    "\n",
    "\n",
    "def fobj(pars, args):\n",
    "\n",
    "    links,players,mu = args\n",
    "\n",
    "    Ec = get_Ec(links, np.array(pars, dtype=int) ) \n",
    "\n",
    "    return sum( (Ec[player]- mu[player])**2 for player in players )\n"
   ]
  },
  {
   "cell_type": "markdown",
   "metadata": {},
   "source": [
    "### Preparo los argumentos"
   ]
  },
  {
   "cell_type": "code",
   "execution_count": 3,
   "metadata": {},
   "outputs": [],
   "source": [
    "# jugadores titulares\n",
    "players = ['Player1', 'Player2', 'Player3', 'Player4', 'Player5', 'Player6', 'Player7', 'Player8', 'Player9', 'Player10']\n",
    "\n",
    "\n",
    "# todos los posibles links\n",
    "links = [ \"%s %s\"%(players[i],players[j]) for i in range(len(players)) for j in range(i+1, len(players)) ]\n",
    "\n",
    "\n",
    "#elejimos metricas\n",
    "arx = 'player_metrica_S1.json'\n",
    "d = json.load(open(arx, \"r\"))\n",
    "metrica = \"ec\"\n",
    "\n",
    "mu={  player:np.mean(d[player][metrica]) for player in players }\n",
    "\n",
    "args = [ links,players,mu  ]\n"
   ]
  },
  {
   "cell_type": "markdown",
   "metadata": {},
   "source": [
    "### Optimizo"
   ]
  },
  {
   "cell_type": "code",
   "execution_count": 4,
   "metadata": {},
   "outputs": [
    {
     "data": {
      "text/plain": [
       " message: Optimization terminated successfully.\n",
       " success: True\n",
       "  status: 0\n",
       "     fun: 0.0067688929958149785\n",
       "       x: [ 1.922e+00  2.499e+00 ...  1.147e+00  2.365e+00]\n",
       "     nit: 5\n",
       "   direc: [[ 1.000e+00  0.000e+00 ...  0.000e+00  0.000e+00]\n",
       "           [ 0.000e+00  1.000e+00 ...  0.000e+00  0.000e+00]\n",
       "           ...\n",
       "           [ 0.000e+00  0.000e+00 ...  1.000e+00  0.000e+00]\n",
       "           [-6.505e-01  2.045e-01 ...  9.966e-04  7.173e-03]]\n",
       "    nfev: 4824"
      ]
     },
     "execution_count": 4,
     "metadata": {},
     "output_type": "execute_result"
    }
   ],
   "source": [
    "\n",
    "pars0 = np.ones(len(links))\n",
    "bounds = [ (0, 10) for i in range(len(links)) ]\n",
    "\n",
    "res = minimize(fobj, pars0, args=args, method=\"Powell\", bounds=bounds)\n",
    "\n",
    "res\n",
    "\n"
   ]
  },
  {
   "cell_type": "markdown",
   "metadata": {},
   "source": [
    "### Chequeo que el resultado sea correcto"
   ]
  },
  {
   "cell_type": "code",
   "execution_count": 5,
   "metadata": {},
   "outputs": [],
   "source": [
    "pesos = res.x.astype(int)"
   ]
  },
  {
   "cell_type": "code",
   "execution_count": 6,
   "metadata": {},
   "outputs": [
    {
     "name": "stdout",
     "output_type": "stream",
     "text": [
      "0.18044220211375533 | 0.290898 | 0.3429855492346802\n",
      "0.07902201176147232 | 0.170427 | 0.251271581483835\n",
      "0.0807828986223949 | 0.179134 | 0.2338186181540175\n",
      "0.27375455470403137 | 0.443761 | 0.5997686833680067\n",
      "0.2924767200784615 | 0.399874 | 0.46023344256027066\n",
      "0.3422728064770107 | 0.422627 | 0.46005245994202054\n",
      "0.09132865824080844 | 0.295196 | 0.448860934612693\n",
      "0.19446521249519094 | 0.321169 | 0.37932076303837564\n",
      "0.19680952591402529 | 0.330364 | 0.4191910076896765\n",
      "0.04722332954305739 | 0.139203 | 0.14074474714752194\n"
     ]
    }
   ],
   "source": [
    "Ec = get_Ec(links, res.x)\n",
    "\n",
    "sd={  player:np.std(d[player][metrica]) for player in players }\n",
    "\n",
    "\n",
    "for player in players:\n",
    "\n",
    "    print ( mu[player]-sd[player], \"| %f |\" %Ec[player] , mu[player]+sd[player])\n"
   ]
  },
  {
   "cell_type": "code",
   "execution_count": 9,
   "metadata": {},
   "outputs": [],
   "source": [
    "edgelist= [ \"%s %d\" % (links[i],pesos[i]) for i in range(len(links)) if pesos[i]>0 ]\n",
    "\n",
    "np.savetxt(\"red_optima.edgelist\", edgelist, fmt=\"%s\")\n",
    "\n"
   ]
  },
  {
   "cell_type": "code",
   "execution_count": null,
   "metadata": {},
   "outputs": [],
   "source": []
  }
 ],
 "metadata": {
  "kernelspec": {
   "display_name": "base",
   "language": "python",
   "name": "python3"
  },
  "language_info": {
   "codemirror_mode": {
    "name": "ipython",
    "version": 3
   },
   "file_extension": ".py",
   "mimetype": "text/x-python",
   "name": "python",
   "nbconvert_exporter": "python",
   "pygments_lexer": "ipython3",
   "version": "3.11.3"
  },
  "orig_nbformat": 4
 },
 "nbformat": 4,
 "nbformat_minor": 2
}
