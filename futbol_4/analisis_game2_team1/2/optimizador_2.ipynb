{
 "cells": [
  {
   "cell_type": "code",
   "execution_count": 1,
   "metadata": {},
   "outputs": [],
   "source": [
    "import json\n",
    "import numpy as np\n",
    "import networkx as nx\n",
    "from scipy.optimize import minimize\n",
    "from plotter_lib import *"
   ]
  },
  {
   "cell_type": "markdown",
   "metadata": {},
   "source": [
    "### Definimos la función error para el optimizador"
   ]
  },
  {
   "cell_type": "code",
   "execution_count": 2,
   "metadata": {},
   "outputs": [],
   "source": [
    "def get_metricas(links, w):\n",
    "\n",
    "    G = nx.DiGraph()\n",
    "\n",
    "    for i in range(len(links)):\n",
    "\n",
    "        n1, n2 = links[i].split(' ')\n",
    "        G.add_edge(n1, n2, weight=w[i])\n",
    "\n",
    "    ec = nx.eigenvector_centrality(G, weight=\"weight\")\n",
    "    c = nx.clustering(G, weight=\"weight\")\n",
    "\n",
    "    return [ec, c]\n",
    "\n",
    "alpha =1\n",
    "beta= 1.075\n",
    "\n",
    "def fobj(pars, args):\n",
    "\n",
    "    links, players, mu = args\n",
    "\n",
    "    Ec, C = get_metricas(links, np.array(pars, dtype=int))\n",
    "\n",
    "\n",
    "    return sum( alpha*(Ec[player] - mu[\"ec\"][player])**2 + beta*(C[player] - mu[\"c\"][player])**2 for player in players)\n"
   ]
  },
  {
   "cell_type": "markdown",
   "metadata": {},
   "source": [
    "### Preparo los argumentos"
   ]
  },
  {
   "cell_type": "code",
   "execution_count": 3,
   "metadata": {},
   "outputs": [],
   "source": [
    "# jugadores titulares\n",
    "#players = ['Player1', 'Player2', 'Player3', 'Player4', 'Player5', 'Player6', 'Player7', 'Player8', 'Player9', 'Player10']\n",
    "players = [ 'Player1', 'Player3', 'Player4', 'Player5', 'Player6', 'Player7', 'Player8', 'Player9', 'Player10']\n",
    "\n",
    "\n",
    "# todos los posibles links\n",
    "n = len(players)\n",
    "links = [ ]\n",
    "\n",
    "for i in range(n):\n",
    "    for j in range(n):\n",
    "        if i!=j:\n",
    "            links.append( \"%s %s\"%(players[i],players[j]) )\n",
    "\n",
    "\n",
    "\n",
    "#elejimos metricas\n",
    "arx = 'player_metrica_S1.json'\n",
    "d = json.load(open(arx, \"r\"))\n",
    "\n",
    "mu={}\n",
    "mu[\"ec\"]={  player:np.mean(d[player][\"ec\"]) for player in players }\n",
    "mu[\"c\"]={  player:np.mean(d[player][\"c\"]) for player in players }\n",
    "\n",
    "\n",
    "\n",
    "\n",
    "args = [ links,players,mu  ]\n"
   ]
  },
  {
   "cell_type": "markdown",
   "metadata": {},
   "source": [
    "### Optimizo"
   ]
  },
  {
   "cell_type": "code",
   "execution_count": 4,
   "metadata": {},
   "outputs": [
    {
     "data": {
      "text/plain": [
       " message: Optimization terminated successfully.\n",
       " success: True\n",
       "  status: 0\n",
       "     fun: 0.028969384074697697\n",
       "       x: [ 7.831e+00  8.068e+00 ...  2.147e+00  2.369e+00]\n",
       "     nit: 2\n",
       "   direc: [[ 0.000e+00  0.000e+00 ...  0.000e+00  1.000e+00]\n",
       "           [ 0.000e+00  1.000e+00 ...  0.000e+00  0.000e+00]\n",
       "           ...\n",
       "           [ 0.000e+00  0.000e+00 ...  1.000e+00  0.000e+00]\n",
       "           [ 1.086e+00  1.392e+00 ...  3.731e-02  1.583e-02]]\n",
       "    nfev: 3203"
      ]
     },
     "execution_count": 4,
     "metadata": {},
     "output_type": "execute_result"
    }
   ],
   "source": [
    "\n",
    "pars0 = np.ones(len(links))\n",
    "bounds = [ (0, 10) for i in range(len(links)) ]\n",
    "\n",
    "res = minimize(fobj, pars0, args=args, method=\"Powell\", bounds=bounds)\n",
    "\n",
    "res\n",
    "\n"
   ]
  },
  {
   "cell_type": "markdown",
   "metadata": {},
   "source": [
    "### Chequeo que el resultado sea correcto"
   ]
  },
  {
   "cell_type": "code",
   "execution_count": 5,
   "metadata": {},
   "outputs": [],
   "source": [
    "pesos = res.x.astype(int)"
   ]
  },
  {
   "cell_type": "code",
   "execution_count": 6,
   "metadata": {},
   "outputs": [
    {
     "name": "stdout",
     "output_type": "stream",
     "text": [
      "Eigenvector Centrality\n",
      "Player1 0.1808256798117162 | 0.240755 | 0.3026705423892874\n",
      "Player3 0.04514041289076494 | 0.222192 | 0.2264852319550637\n",
      "Player4 0.2812174258093085 | 0.436777 | 0.5469438080445308\n",
      "Player5 0.3126430869251662 | 0.418971 | 0.45285535628454887\n",
      "Player6 0.2769308847557014 | 0.375110 | 0.4234938191200025\n",
      "Player7 0.08542764399209277 | 0.306586 | 0.4388688297596225\n",
      "Player8 0.22050169323507524 | 0.344596 | 0.4067762901777438\n",
      "Player9 0.19787303019639885 | 0.370780 | 0.5000898047425932\n",
      "Player10 0.0731479838757895 | 0.188231 | 0.18845958167778673\n",
      "\n",
      "Clustering\n",
      "Player1 0.13394274667139172 | 0.293068 | 0.2422053079314596   X\n",
      "Player3 0.11177358976557374 | 0.240736 | 0.27668014387187073\n",
      "Player4 0.08550813310025977 | 0.268990 | 0.24210998488017754   X\n",
      "Player5 0.0938094907727953 | 0.269156 | 0.1964482583719803   X\n",
      "Player6 0.10811612510458521 | 0.255052 | 0.24836623090152374   X\n",
      "Player7 0.09670722426056347 | 0.227827 | 0.22796137416303439\n",
      "Player8 0.10542207430563524 | 0.226403 | 0.18708195615224518   X\n",
      "Player9 0.11017376092337147 | 0.228047 | 0.167476689319106   X\n",
      "Player10 0.059547791248987764 | 0.192604 | 0.26729120930836037\n",
      "\n",
      "Nro casos fuera: 6\n"
     ]
    }
   ],
   "source": [
    "Ec,C = get_metricas(links, res.x)\n",
    "\n",
    "sd={}\n",
    "sd[\"ec\"]={  player:np.std(d[player][\"ec\"]) for player in players }\n",
    "sd[\"c\"]={  player:np.std(d[player][\"c\"]) for player in players }\n",
    "count_no=0\n",
    "\n",
    "print (\"Eigenvector Centrality\")\n",
    "for player in players:\n",
    "\n",
    "    l1,l2 = mu[\"ec\"][player]-sd[\"ec\"][player], mu[\"ec\"][player]+sd[\"ec\"][player]\n",
    "    \n",
    "    if Ec[player]>l2 or Ec[player]<l1:\n",
    "        count_no+=1\n",
    "        print ( player, l1, \"| %f |\" %Ec[player] , l2, \"  X\")\n",
    "    else:\n",
    "        print ( player, l1, \"| %f |\" %Ec[player] , l2)\n",
    "\n",
    "\n",
    "print (\"\\nClustering\")\n",
    "for player in players:\n",
    "\n",
    "    l1,l2 = mu[\"c\"][player]-sd[\"c\"][player], mu[\"c\"][player]+sd[\"c\"][player]\n",
    "    \n",
    "    if C[player]>l2 or C[player]<l1:\n",
    "        count_no+=1\n",
    "        print ( player, l1, \"| %f |\" %C[player] , l2, \"  X\")\n",
    "    else:\n",
    "         print ( player, l1, \"| %f |\" %C[player] , l2)\n",
    "\n",
    "\n",
    "print (\"\\nNro casos fuera:\", count_no)"
   ]
  },
  {
   "cell_type": "code",
   "execution_count": 7,
   "metadata": {},
   "outputs": [],
   "source": [
    "edgelist= [ \"%s %d\" % (links[i],pesos[i]) for i in range(len(links)) if pesos[i]>0 ]\n",
    "\n",
    "np.savetxt(\"red_optima_truncada_p2.edgelist\", edgelist, fmt=\"%s\")\n",
    "\n"
   ]
  },
  {
   "cell_type": "code",
   "execution_count": 8,
   "metadata": {},
   "outputs": [],
   "source": [
    "#players = ['Player1', 'Player2', 'Player3', 'Player4', 'Player5', 'Player6', 'Player7', 'Player8', 'Player9', 'Player10']\n",
    "\n",
    "#colorDict = {    player:\"C%d\"%i for i,player in enumerate(players)}\n",
    "\n",
    "#json.dump(colorDict, open(\"colorDict.json\",\"w\") )"
   ]
  },
  {
   "cell_type": "code",
   "execution_count": 9,
   "metadata": {},
   "outputs": [],
   "source": []
  },
  {
   "cell_type": "code",
   "execution_count": null,
   "metadata": {},
   "outputs": [],
   "source": []
  }
 ],
 "metadata": {
  "kernelspec": {
   "display_name": "base",
   "language": "python",
   "name": "python3"
  },
  "language_info": {
   "codemirror_mode": {
    "name": "ipython",
    "version": 3
   },
   "file_extension": ".py",
   "mimetype": "text/x-python",
   "name": "python",
   "nbconvert_exporter": "python",
   "pygments_lexer": "ipython3",
   "version": "3.11.3"
  },
  "orig_nbformat": 4
 },
 "nbformat": 4,
 "nbformat_minor": 2
}
