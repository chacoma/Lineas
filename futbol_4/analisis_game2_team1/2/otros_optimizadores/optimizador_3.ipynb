{
 "cells": [
  {
   "cell_type": "code",
   "execution_count": 140,
   "metadata": {},
   "outputs": [],
   "source": [
    "import json\n",
    "import numpy as np\n",
    "import networkx as nx\n",
    "from scipy.optimize import minimize\n",
    "from plotter_lib import *"
   ]
  },
  {
   "cell_type": "markdown",
   "metadata": {},
   "source": [
    "### Definimos la función error para el optimizador"
   ]
  },
  {
   "cell_type": "code",
   "execution_count": 141,
   "metadata": {},
   "outputs": [],
   "source": [
    "def get_metricas(links, w):\n",
    "\n",
    "    G = nx.DiGraph()\n",
    "\n",
    "    for i in range(len(links)):\n",
    "\n",
    "        n1, n2 = links[i].split(' ')\n",
    "        G.add_edge(n1, n2, weight=w[i])\n",
    "\n",
    "    ec = nx.eigenvector_centrality(G, weight=\"weight\")\n",
    "    bc = nx.betweenness_centrality(G, weight=\"weight\")\n",
    "    c = nx.clustering(G, weight=\"weight\")\n",
    "\n",
    "    return [ec, bc, c]\n",
    "\n",
    "alpha = 1.0\n",
    "beta  = 1.07\n",
    "gamma = 3.3\n",
    "\n",
    "def fobj(pars, args):\n",
    "\n",
    "    links, players, mu = args\n",
    "\n",
    "    Ec, Bc, C = get_metricas(links, np.array(pars, dtype=int))\n",
    "\n",
    "    metr= \"bc\"\n",
    "\n",
    "    return sum([alpha*(Ec[player] -mu[\"ec\"][player])**2 + \n",
    "               beta*(Bc[player] - mu[\"bc\"][player])**2 +\n",
    "               gamma*(C[player] - mu[\"c\"][player])**2 for player in players])\n"
   ]
  },
  {
   "cell_type": "markdown",
   "metadata": {},
   "source": [
    "### Preparo los argumentos"
   ]
  },
  {
   "cell_type": "code",
   "execution_count": 142,
   "metadata": {},
   "outputs": [],
   "source": [
    "# jugadores titulares\n",
    "#players = ['Player1', 'Player2', 'Player3', 'Player4', 'Player5', 'Player6', 'Player7', 'Player8', 'Player9', 'Player10']\n",
    "players = [ 'Player1', 'Player2', 'Player3', 'Player4', 'Player5', 'Player6', 'Player7', 'Player8', 'Player9']\n",
    "\n",
    "arxs = \"edgelists/red_optima_3_p10.edgelist\"\n",
    "\n",
    "# todos los posibles links\n",
    "n = len(players)\n",
    "links = [ ]\n",
    "\n",
    "for i in range(n):\n",
    "    for j in range(n):\n",
    "        if i!=j:\n",
    "            links.append( \"%s %s\"%(players[i],players[j]) )\n",
    "\n",
    "\n",
    "\n",
    "#elejimos metricas\n",
    "arx = '../player_metrica_S1.json'\n",
    "d = json.load(open(arx, \"r\"))\n",
    "\n",
    "mu={}\n",
    "mu[\"ec\"]={  player:np.mean(d[player][\"ec\"]) for player in players }\n",
    "mu[\"bc\"]={  player:np.mean(d[player][\"bc\"]) for player in players }\n",
    "mu[\"c\"]={  player:np.mean(d[player][\"c\"]) for player in players }\n",
    "\n",
    "\n",
    "\n",
    "\n",
    "args = [ links,players,mu  ]\n"
   ]
  },
  {
   "cell_type": "markdown",
   "metadata": {},
   "source": [
    "### Optimizo"
   ]
  },
  {
   "cell_type": "code",
   "execution_count": 143,
   "metadata": {},
   "outputs": [
    {
     "data": {
      "text/plain": [
       " message: Optimization terminated successfully.\n",
       " success: True\n",
       "  status: 0\n",
       "     fun: 0.08011989791130719\n",
       "       x: [ 7.302e+00  2.075e+00 ...  1.219e+00  1.138e+00]\n",
       "     nit: 3\n",
       "   direc: [[ 0.000e+00  0.000e+00 ...  0.000e+00  1.000e+00]\n",
       "           [ 0.000e+00  1.000e+00 ...  0.000e+00  0.000e+00]\n",
       "           ...\n",
       "           [ 0.000e+00  0.000e+00 ...  1.000e+00  0.000e+00]\n",
       "           [-3.610e-02 -8.024e-04 ... -2.661e-03 -3.073e-03]]\n",
       "    nfev: 4823"
      ]
     },
     "execution_count": 143,
     "metadata": {},
     "output_type": "execute_result"
    }
   ],
   "source": [
    "\n",
    "pars0 = np.ones(len(links))\n",
    "bounds = [ (0, 10) for i in range(len(links)) ]\n",
    "\n",
    "res = minimize(fobj, pars0, args=args, method=\"Powell\", bounds=bounds)\n",
    "\n",
    "res\n",
    "\n"
   ]
  },
  {
   "cell_type": "markdown",
   "metadata": {},
   "source": [
    "### Chequeo que el resultado sea correcto"
   ]
  },
  {
   "cell_type": "code",
   "execution_count": 144,
   "metadata": {},
   "outputs": [],
   "source": [
    "pesos = res.x.astype(int)"
   ]
  },
  {
   "cell_type": "code",
   "execution_count": 145,
   "metadata": {},
   "outputs": [
    {
     "name": "stdout",
     "output_type": "stream",
     "text": [
      "Eigenvector Centrality\n",
      "Player1 0.1808256798117162 | 0.259069 | 0.3026705423892874\n",
      "Player2 0.0684152819837958 | 0.245270 | 0.27707424461725105\n",
      "Player3 0.04514041289076494 | 0.219763 | 0.2264852319550637\n",
      "Player4 0.2812174258093085 | 0.436677 | 0.5469438080445308\n",
      "Player5 0.3126430869251662 | 0.408305 | 0.45285535628454887\n",
      "Player6 0.2769308847557014 | 0.363801 | 0.4234938191200025\n",
      "Player7 0.08542764399209277 | 0.312691 | 0.4388688297596225\n",
      "Player8 0.22050169323507524 | 0.350848 | 0.4067762901777438\n",
      "Player9 0.19787303019639885 | 0.337357 | 0.5000898047425932\n",
      "\n",
      "Betweenness\n",
      "Player1 0.01454635896931493 | 0.035714 | 0.21775282332986734\n",
      "Player2 0.007395805077633752 | 0.017857 | 0.07575955807772941\n",
      "Player3 0.0008091187302524359 | 0.071429 | 0.04938328146214775   X\n",
      "Player4 0.05595584432276325 | 0.125000 | 0.2839723491768588\n",
      "Player5 0.037227773180369766 | 0.053571 | 0.288558662606066\n",
      "Player6 0.0656058649662493 | 0.089286 | 0.21128807442769004\n",
      "Player7 0.029989530832165295 | 0.053571 | 0.17522932438668992\n",
      "Player8 0.03398972316517013 | 0.071429 | 0.20965842498297807\n",
      "Player9 0.0648614486869291 | 0.089286 | 0.2806664493409689\n",
      "\n",
      "Clustering\n",
      "Player1 0.13394274667139172 | 0.267156 | 0.2422053079314596   X\n",
      "Player2 0.1296898373034116 | 0.252470 | 0.2854207076702394\n",
      "Player3 0.11177358976557374 | 0.239783 | 0.27668014387187073\n",
      "Player4 0.08550813310025977 | 0.255089 | 0.24210998488017754   X\n",
      "Player5 0.0938094907727953 | 0.261131 | 0.1964482583719803   X\n",
      "Player6 0.10811612510458521 | 0.254977 | 0.24836623090152374   X\n",
      "Player7 0.09670722426056347 | 0.232733 | 0.22796137416303439   X\n",
      "Player8 0.10542207430563524 | 0.254523 | 0.18708195615224518   X\n",
      "Player9 0.11017376092337147 | 0.250766 | 0.167476689319106   X\n",
      "\n",
      "Nro casos fuera: 8\n"
     ]
    }
   ],
   "source": [
    "Ec,Bc,C = get_metricas(links, res.x)\n",
    "\n",
    "sd={}\n",
    "sd[\"ec\"]={  player:np.std(d[player][\"ec\"]) for player in players }\n",
    "sd[\"bc\"]={  player:np.std(d[player][\"bc\"]) for player in players }\n",
    "sd[\"c\"]={  player:np.std(d[player][\"c\"]) for player in players }\n",
    "count_no=0\n",
    "\n",
    "print (\"Eigenvector Centrality\")\n",
    "for player in players:\n",
    "\n",
    "    l1,l2 = mu[\"ec\"][player]-sd[\"ec\"][player], mu[\"ec\"][player]+sd[\"ec\"][player]\n",
    "    \n",
    "    if Ec[player]>l2 or Ec[player]<l1:\n",
    "        count_no+=1\n",
    "        print ( player, l1, \"| %f |\" %Ec[player] , l2, \"  X\")\n",
    "    else:\n",
    "        print ( player, l1, \"| %f |\" %Ec[player] , l2)\n",
    "\n",
    "\n",
    "print (\"\\nBetweenness\")\n",
    "for player in players:\n",
    "\n",
    "    l1,l2 = mu[\"bc\"][player]-sd[\"bc\"][player], mu[\"bc\"][player]+sd[\"bc\"][player]\n",
    "    \n",
    "    if Bc[player]>l2 or Bc[player]<l1:\n",
    "        count_no+=1\n",
    "        print ( player, l1, \"| %f |\" %Bc[player] , l2, \"  X\")\n",
    "    else:\n",
    "         print ( player, l1, \"| %f |\" %Bc[player] , l2)\n",
    "\n",
    "\n",
    "print (\"\\nClustering\")\n",
    "for player in players:\n",
    "\n",
    "    l1,l2 = mu[\"c\"][player]-sd[\"c\"][player], mu[\"c\"][player]+sd[\"c\"][player]\n",
    "    \n",
    "    if C[player]>l2 or C[player]<l1:\n",
    "        count_no+=1\n",
    "        print ( player, l1, \"| %f |\" %C[player] , l2, \"  X\")\n",
    "    else:\n",
    "         print ( player, l1, \"| %f |\" %C[player] , l2)\n",
    "\n",
    "\n",
    "print (\"\\nNro casos fuera:\", count_no)"
   ]
  },
  {
   "cell_type": "code",
   "execution_count": 146,
   "metadata": {},
   "outputs": [],
   "source": [
    "edgelist= [ \"%s %d\" % (links[i],pesos[i]) for i in range(len(links)) if pesos[i]>0 ]\n",
    "\n",
    "np.savetxt(arxs, edgelist, fmt=\"%s\")\n",
    "\n"
   ]
  },
  {
   "cell_type": "code",
   "execution_count": 147,
   "metadata": {},
   "outputs": [],
   "source": [
    "#players = ['Player1', 'Player2', 'Player3', 'Player4', 'Player5', 'Player6', 'Player7', 'Player8', 'Player9', 'Player10']\n",
    "\n",
    "#colorDict = {    player:\"C%d\"%i for i,player in enumerate(players)}\n",
    "\n",
    "#json.dump(colorDict, open(\"colorDict.json\",\"w\") )"
   ]
  },
  {
   "cell_type": "code",
   "execution_count": 148,
   "metadata": {},
   "outputs": [
    {
     "data": {
      "text/plain": [
       "(-0.05, 0.6)"
      ]
     },
     "execution_count": 148,
     "metadata": {},
     "output_type": "execute_result"
    },
    {
     "data": {
      "image/png": "[encoded data removed]",
      "text/plain": [
       "<Figure size 640x480 with 3 Axes>"
      ]
     },
     "metadata": {},
     "output_type": "display_data"
    }
   ],
   "source": [
    "fig,ax = plt.subplots(3,1)\n",
    "\n",
    "i=1\n",
    "for player in players:\n",
    "\n",
    "    ax[0].errorbar( i, mu[\"ec\"][player], sd[\"ec\"][player],alpha=0.5 ,elinewidth=3,capsize=4)\n",
    "    ax[0].scatter( [i],[Ec[player]], marker='x' )\n",
    "\n",
    "    ax[1].errorbar( i, mu[\"bc\"][player], sd[\"bc\"][player],alpha=0.5 ,elinewidth=3,capsize=4)\n",
    "    ax[1].scatter( [i],[Bc[player]], marker='x' )\n",
    "\n",
    "    ax[2].errorbar( i, mu[\"c\"][player], sd[\"c\"][player],alpha=0.5 ,elinewidth=3,capsize=4)\n",
    "    ax[2].scatter( [i],[C[player]], marker='x' )\n",
    "\n",
    "\n",
    "    i+=1\n",
    "\n",
    "ax[0].set_ylim(-0.05,0.6)\n",
    "ax[1].set_ylim(-0.05,0.6)\n",
    "ax[2].set_ylim(-0.05,0.6)"
   ]
  },
  {
   "cell_type": "code",
   "execution_count": null,
   "metadata": {},
   "outputs": [],
   "source": []
  }
 ],
 "metadata": {
  "kernelspec": {
   "display_name": "base",
   "language": "python",
   "name": "python3"
  },
  "language_info": {
   "codemirror_mode": {
    "name": "ipython",
    "version": 3
   },
   "file_extension": ".py",
   "mimetype": "text/x-python",
   "name": "python",
   "nbconvert_exporter": "python",
   "pygments_lexer": "ipython3",
   "version": "3.10.12"
  },
  "orig_nbformat": 4
 },
 "nbformat": 4,
 "nbformat_minor": 2
}
